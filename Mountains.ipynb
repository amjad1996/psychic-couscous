{
 "cells": [
  {
   "cell_type": "code",
   "execution_count": 29,
   "id": "bca51af3-e608-4d9c-9547-da7a433e1766",
   "metadata": {},
   "outputs": [],
   "source": [
    "import pandas as pd\n"
   ]
  },
  {
   "cell_type": "code",
   "execution_count": 30,
   "id": "1edcd8b4-6e30-4cc2-9046-e6d80cb0aeb4",
   "metadata": {},
   "outputs": [],
   "source": [
    "import matplotlib.pyplot as plt\n",
    "\n",
    "%matplotlib inline"
   ]
  },
  {
   "cell_type": "code",
   "execution_count": 31,
   "id": "ef12f9ed-fe34-4d6c-99f0-e2e948475dd2",
   "metadata": {},
   "outputs": [],
   "source": [
    "df = pd.read_csv(\"c1_mountains.csv\")"
   ]
  },
  {
   "cell_type": "code",
   "execution_count": 32,
   "id": "29436305-1349-451a-9d15-3edafae36d36",
   "metadata": {},
   "outputs": [
    {
     "data": {
      "text/html": [
       "<div>\n",
       "<style scoped>\n",
       "    .dataframe tbody tr th:only-of-type {\n",
       "        vertical-align: middle;\n",
       "    }\n",
       "\n",
       "    .dataframe tbody tr th {\n",
       "        vertical-align: top;\n",
       "    }\n",
       "\n",
       "    .dataframe thead th {\n",
       "        text-align: right;\n",
       "    }\n",
       "</style>\n",
       "<table border=\"1\" class=\"dataframe\">\n",
       "  <thead>\n",
       "    <tr style=\"text-align: right;\">\n",
       "      <th></th>\n",
       "      <th>Rank</th>\n",
       "      <th>Mountain</th>\n",
       "      <th>Height (m)</th>\n",
       "      <th>Height (ft)</th>\n",
       "      <th>Prominence (m)</th>\n",
       "      <th>Range</th>\n",
       "      <th>Coordinates</th>\n",
       "      <th>Parent mountain</th>\n",
       "      <th>First ascent</th>\n",
       "      <th>Ascents bef. 2004</th>\n",
       "      <th>Failed attempts bef. 2004</th>\n",
       "    </tr>\n",
       "  </thead>\n",
       "  <tbody>\n",
       "    <tr>\n",
       "      <th>0</th>\n",
       "      <td>1</td>\n",
       "      <td>Mount Everest / Sagarmatha / Chomolungma</td>\n",
       "      <td>8848</td>\n",
       "      <td>29029</td>\n",
       "      <td>8848</td>\n",
       "      <td>Mahalangur Himalaya</td>\n",
       "      <td>27°59′17″N 86°55′31″E﻿</td>\n",
       "      <td>NaN</td>\n",
       "      <td>1953</td>\n",
       "      <td>&gt;&gt;145</td>\n",
       "      <td>121.0</td>\n",
       "    </tr>\n",
       "    <tr>\n",
       "      <th>1</th>\n",
       "      <td>2</td>\n",
       "      <td>K2 / Qogir / Godwin Austen</td>\n",
       "      <td>8611</td>\n",
       "      <td>28251</td>\n",
       "      <td>4017</td>\n",
       "      <td>Baltoro Karakoram</td>\n",
       "      <td>35°52′53″N 76°30′48″E﻿</td>\n",
       "      <td>Mount Everest</td>\n",
       "      <td>1954</td>\n",
       "      <td>45</td>\n",
       "      <td>44.0</td>\n",
       "    </tr>\n",
       "    <tr>\n",
       "      <th>2</th>\n",
       "      <td>3</td>\n",
       "      <td>Kangchenjunga</td>\n",
       "      <td>8586</td>\n",
       "      <td>28169</td>\n",
       "      <td>3922</td>\n",
       "      <td>Kangchenjunga Himalaya</td>\n",
       "      <td>27°42′12″N 88°08′51″E﻿</td>\n",
       "      <td>Mount Everest</td>\n",
       "      <td>1955</td>\n",
       "      <td>38</td>\n",
       "      <td>24.0</td>\n",
       "    </tr>\n",
       "    <tr>\n",
       "      <th>3</th>\n",
       "      <td>4</td>\n",
       "      <td>Lhotse</td>\n",
       "      <td>8516</td>\n",
       "      <td>27940</td>\n",
       "      <td>610</td>\n",
       "      <td>Mahalangur Himalaya</td>\n",
       "      <td>27°57′42″N 86°55′59″E﻿</td>\n",
       "      <td>Mount Everest</td>\n",
       "      <td>1956</td>\n",
       "      <td>26</td>\n",
       "      <td>26.0</td>\n",
       "    </tr>\n",
       "    <tr>\n",
       "      <th>4</th>\n",
       "      <td>5</td>\n",
       "      <td>Makalu</td>\n",
       "      <td>8485</td>\n",
       "      <td>27838</td>\n",
       "      <td>2386</td>\n",
       "      <td>Mahalangur Himalaya</td>\n",
       "      <td>27°53′23″N 87°05′20″E﻿</td>\n",
       "      <td>Mount Everest</td>\n",
       "      <td>1955</td>\n",
       "      <td>45</td>\n",
       "      <td>52.0</td>\n",
       "    </tr>\n",
       "  </tbody>\n",
       "</table>\n",
       "</div>"
      ],
      "text/plain": [
       "   Rank                                  Mountain  Height (m)  Height (ft)  \\\n",
       "0     1  Mount Everest / Sagarmatha / Chomolungma        8848        29029   \n",
       "1     2                K2 / Qogir / Godwin Austen        8611        28251   \n",
       "2     3                             Kangchenjunga        8586        28169   \n",
       "3     4                                    Lhotse        8516        27940   \n",
       "4     5                                    Makalu        8485        27838   \n",
       "\n",
       "   Prominence (m)                   Range              Coordinates  \\\n",
       "0            8848     Mahalangur Himalaya  27°59′17″N 86°55′31″E﻿    \n",
       "1            4017       Baltoro Karakoram  35°52′53″N 76°30′48″E﻿    \n",
       "2            3922  Kangchenjunga Himalaya  27°42′12″N 88°08′51″E﻿    \n",
       "3             610     Mahalangur Himalaya  27°57′42″N 86°55′59″E﻿    \n",
       "4            2386     Mahalangur Himalaya  27°53′23″N 87°05′20″E﻿    \n",
       "\n",
       "  Parent mountain First ascent Ascents bef. 2004  Failed attempts bef. 2004  \n",
       "0             NaN         1953            >>145                       121.0  \n",
       "1   Mount Everest         1954                45                       44.0  \n",
       "2   Mount Everest         1955                38                       24.0  \n",
       "3   Mount Everest         1956                26                       26.0  \n",
       "4   Mount Everest         1955                45                       52.0  "
      ]
     },
     "execution_count": 32,
     "metadata": {},
     "output_type": "execute_result"
    }
   ],
   "source": [
    "df.head(5)"
   ]
  },
  {
   "cell_type": "code",
   "execution_count": 33,
   "id": "35e96679-33a5-48b6-bbba-7d29a956ecab",
   "metadata": {},
   "outputs": [
    {
     "name": "stdout",
     "output_type": "stream",
     "text": [
      "<class 'pandas.core.frame.DataFrame'>\n",
      "RangeIndex: 118 entries, 0 to 117\n",
      "Data columns (total 11 columns):\n",
      " #   Column                     Non-Null Count  Dtype  \n",
      "---  ------                     --------------  -----  \n",
      " 0   Rank                       118 non-null    int64  \n",
      " 1   Mountain                   118 non-null    object \n",
      " 2   Height (m)                 118 non-null    int64  \n",
      " 3   Height (ft)                118 non-null    int64  \n",
      " 4   Prominence (m)             118 non-null    int64  \n",
      " 5   Range                      118 non-null    object \n",
      " 6   Coordinates                118 non-null    object \n",
      " 7   Parent mountain            117 non-null    object \n",
      " 8   First ascent               118 non-null    object \n",
      " 9   Ascents bef. 2004          116 non-null    object \n",
      " 10  Failed attempts bef. 2004  115 non-null    float64\n",
      "dtypes: float64(1), int64(4), object(6)\n",
      "memory usage: 10.3+ KB\n"
     ]
    }
   ],
   "source": [
    "df.info()"
   ]
  },
  {
   "cell_type": "code",
   "execution_count": 34,
   "id": "877aba28-5bd7-4080-9512-a71b1c293305",
   "metadata": {},
   "outputs": [
    {
     "data": {
      "text/plain": [
       "Rank                           int64\n",
       "Mountain                      object\n",
       "Height (m)                     int64\n",
       "Height (ft)                    int64\n",
       "Prominence (m)                 int64\n",
       "Range                         object\n",
       "Coordinates                   object\n",
       "Parent mountain               object\n",
       "First ascent                  object\n",
       "Ascents bef. 2004             object\n",
       "Failed attempts bef. 2004    float64\n",
       "dtype: object"
      ]
     },
     "execution_count": 34,
     "metadata": {},
     "output_type": "execute_result"
    }
   ],
   "source": [
    "df.dtypes"
   ]
  },
  {
   "cell_type": "code",
   "execution_count": 35,
   "id": "d96292b2-a012-4a1b-8326-4bc5d216a06c",
   "metadata": {},
   "outputs": [
    {
     "data": {
      "text/html": [
       "<div>\n",
       "<style scoped>\n",
       "    .dataframe tbody tr th:only-of-type {\n",
       "        vertical-align: middle;\n",
       "    }\n",
       "\n",
       "    .dataframe tbody tr th {\n",
       "        vertical-align: top;\n",
       "    }\n",
       "\n",
       "    .dataframe thead th {\n",
       "        text-align: right;\n",
       "    }\n",
       "</style>\n",
       "<table border=\"1\" class=\"dataframe\">\n",
       "  <thead>\n",
       "    <tr style=\"text-align: right;\">\n",
       "      <th></th>\n",
       "      <th>Rank</th>\n",
       "      <th>Height (m)</th>\n",
       "      <th>Height (ft)</th>\n",
       "      <th>Prominence (m)</th>\n",
       "      <th>Failed attempts bef. 2004</th>\n",
       "    </tr>\n",
       "  </thead>\n",
       "  <tbody>\n",
       "    <tr>\n",
       "      <th>count</th>\n",
       "      <td>118.000000</td>\n",
       "      <td>118.000000</td>\n",
       "      <td>118.000000</td>\n",
       "      <td>118.000000</td>\n",
       "      <td>115.000000</td>\n",
       "    </tr>\n",
       "    <tr>\n",
       "      <th>mean</th>\n",
       "      <td>59.500000</td>\n",
       "      <td>7578.042373</td>\n",
       "      <td>24862.364407</td>\n",
       "      <td>1671.567797</td>\n",
       "      <td>8.400000</td>\n",
       "    </tr>\n",
       "    <tr>\n",
       "      <th>std</th>\n",
       "      <td>34.207699</td>\n",
       "      <td>341.471211</td>\n",
       "      <td>1120.311905</td>\n",
       "      <td>1234.813419</td>\n",
       "      <td>15.782958</td>\n",
       "    </tr>\n",
       "    <tr>\n",
       "      <th>min</th>\n",
       "      <td>1.000000</td>\n",
       "      <td>7200.000000</td>\n",
       "      <td>23622.000000</td>\n",
       "      <td>217.000000</td>\n",
       "      <td>0.000000</td>\n",
       "    </tr>\n",
       "    <tr>\n",
       "      <th>25%</th>\n",
       "      <td>30.250000</td>\n",
       "      <td>7316.500000</td>\n",
       "      <td>24004.000000</td>\n",
       "      <td>712.750000</td>\n",
       "      <td>1.000000</td>\n",
       "    </tr>\n",
       "    <tr>\n",
       "      <th>50%</th>\n",
       "      <td>59.500000</td>\n",
       "      <td>7472.500000</td>\n",
       "      <td>24516.500000</td>\n",
       "      <td>1332.500000</td>\n",
       "      <td>3.000000</td>\n",
       "    </tr>\n",
       "    <tr>\n",
       "      <th>75%</th>\n",
       "      <td>88.750000</td>\n",
       "      <td>7775.500000</td>\n",
       "      <td>25509.750000</td>\n",
       "      <td>2297.250000</td>\n",
       "      <td>11.000000</td>\n",
       "    </tr>\n",
       "    <tr>\n",
       "      <th>max</th>\n",
       "      <td>118.000000</td>\n",
       "      <td>8848.000000</td>\n",
       "      <td>29029.000000</td>\n",
       "      <td>8848.000000</td>\n",
       "      <td>121.000000</td>\n",
       "    </tr>\n",
       "  </tbody>\n",
       "</table>\n",
       "</div>"
      ],
      "text/plain": [
       "             Rank   Height (m)   Height (ft)  Prominence (m)  \\\n",
       "count  118.000000   118.000000    118.000000      118.000000   \n",
       "mean    59.500000  7578.042373  24862.364407     1671.567797   \n",
       "std     34.207699   341.471211   1120.311905     1234.813419   \n",
       "min      1.000000  7200.000000  23622.000000      217.000000   \n",
       "25%     30.250000  7316.500000  24004.000000      712.750000   \n",
       "50%     59.500000  7472.500000  24516.500000     1332.500000   \n",
       "75%     88.750000  7775.500000  25509.750000     2297.250000   \n",
       "max    118.000000  8848.000000  29029.000000     8848.000000   \n",
       "\n",
       "       Failed attempts bef. 2004  \n",
       "count                 115.000000  \n",
       "mean                    8.400000  \n",
       "std                    15.782958  \n",
       "min                     0.000000  \n",
       "25%                     1.000000  \n",
       "50%                     3.000000  \n",
       "75%                    11.000000  \n",
       "max                   121.000000  "
      ]
     },
     "execution_count": 35,
     "metadata": {},
     "output_type": "execute_result"
    }
   ],
   "source": [
    "df.describe()"
   ]
  },
  {
   "cell_type": "code",
   "execution_count": 36,
   "id": "0a02e7ed-a3b3-474b-b894-3bfcff3b6147",
   "metadata": {},
   "outputs": [],
   "source": [
    "df.set_index(\"Mountain\", inplace=True)"
   ]
  },
  {
   "cell_type": "code",
   "execution_count": 37,
   "id": "6b474b4c-4d00-4841-a4a6-0b9f32173ea5",
   "metadata": {},
   "outputs": [
    {
     "data": {
      "text/html": [
       "<div>\n",
       "<style scoped>\n",
       "    .dataframe tbody tr th:only-of-type {\n",
       "        vertical-align: middle;\n",
       "    }\n",
       "\n",
       "    .dataframe tbody tr th {\n",
       "        vertical-align: top;\n",
       "    }\n",
       "\n",
       "    .dataframe thead th {\n",
       "        text-align: right;\n",
       "    }\n",
       "</style>\n",
       "<table border=\"1\" class=\"dataframe\">\n",
       "  <thead>\n",
       "    <tr style=\"text-align: right;\">\n",
       "      <th></th>\n",
       "      <th>Rank</th>\n",
       "      <th>Height (m)</th>\n",
       "      <th>Height (ft)</th>\n",
       "      <th>Prominence (m)</th>\n",
       "      <th>Range</th>\n",
       "      <th>Coordinates</th>\n",
       "      <th>Parent mountain</th>\n",
       "      <th>First ascent</th>\n",
       "      <th>Ascents bef. 2004</th>\n",
       "      <th>Failed attempts bef. 2004</th>\n",
       "    </tr>\n",
       "    <tr>\n",
       "      <th>Mountain</th>\n",
       "      <th></th>\n",
       "      <th></th>\n",
       "      <th></th>\n",
       "      <th></th>\n",
       "      <th></th>\n",
       "      <th></th>\n",
       "      <th></th>\n",
       "      <th></th>\n",
       "      <th></th>\n",
       "      <th></th>\n",
       "    </tr>\n",
       "  </thead>\n",
       "  <tbody>\n",
       "    <tr>\n",
       "      <th>Mount Everest / Sagarmatha / Chomolungma</th>\n",
       "      <td>1</td>\n",
       "      <td>8848</td>\n",
       "      <td>29029</td>\n",
       "      <td>8848</td>\n",
       "      <td>Mahalangur Himalaya</td>\n",
       "      <td>27°59′17″N 86°55′31″E﻿</td>\n",
       "      <td>NaN</td>\n",
       "      <td>1953</td>\n",
       "      <td>&gt;&gt;145</td>\n",
       "      <td>121.0</td>\n",
       "    </tr>\n",
       "    <tr>\n",
       "      <th>K2 / Qogir / Godwin Austen</th>\n",
       "      <td>2</td>\n",
       "      <td>8611</td>\n",
       "      <td>28251</td>\n",
       "      <td>4017</td>\n",
       "      <td>Baltoro Karakoram</td>\n",
       "      <td>35°52′53″N 76°30′48″E﻿</td>\n",
       "      <td>Mount Everest</td>\n",
       "      <td>1954</td>\n",
       "      <td>45</td>\n",
       "      <td>44.0</td>\n",
       "    </tr>\n",
       "    <tr>\n",
       "      <th>Kangchenjunga</th>\n",
       "      <td>3</td>\n",
       "      <td>8586</td>\n",
       "      <td>28169</td>\n",
       "      <td>3922</td>\n",
       "      <td>Kangchenjunga Himalaya</td>\n",
       "      <td>27°42′12″N 88°08′51″E﻿</td>\n",
       "      <td>Mount Everest</td>\n",
       "      <td>1955</td>\n",
       "      <td>38</td>\n",
       "      <td>24.0</td>\n",
       "    </tr>\n",
       "    <tr>\n",
       "      <th>Lhotse</th>\n",
       "      <td>4</td>\n",
       "      <td>8516</td>\n",
       "      <td>27940</td>\n",
       "      <td>610</td>\n",
       "      <td>Mahalangur Himalaya</td>\n",
       "      <td>27°57′42″N 86°55′59″E﻿</td>\n",
       "      <td>Mount Everest</td>\n",
       "      <td>1956</td>\n",
       "      <td>26</td>\n",
       "      <td>26.0</td>\n",
       "    </tr>\n",
       "    <tr>\n",
       "      <th>Makalu</th>\n",
       "      <td>5</td>\n",
       "      <td>8485</td>\n",
       "      <td>27838</td>\n",
       "      <td>2386</td>\n",
       "      <td>Mahalangur Himalaya</td>\n",
       "      <td>27°53′23″N 87°05′20″E﻿</td>\n",
       "      <td>Mount Everest</td>\n",
       "      <td>1955</td>\n",
       "      <td>45</td>\n",
       "      <td>52.0</td>\n",
       "    </tr>\n",
       "  </tbody>\n",
       "</table>\n",
       "</div>"
      ],
      "text/plain": [
       "                                          Rank  Height (m)  Height (ft)  \\\n",
       "Mountain                                                                  \n",
       "Mount Everest / Sagarmatha / Chomolungma     1        8848        29029   \n",
       "K2 / Qogir / Godwin Austen                   2        8611        28251   \n",
       "Kangchenjunga                                3        8586        28169   \n",
       "Lhotse                                       4        8516        27940   \n",
       "Makalu                                       5        8485        27838   \n",
       "\n",
       "                                          Prominence (m)  \\\n",
       "Mountain                                                   \n",
       "Mount Everest / Sagarmatha / Chomolungma            8848   \n",
       "K2 / Qogir / Godwin Austen                          4017   \n",
       "Kangchenjunga                                       3922   \n",
       "Lhotse                                               610   \n",
       "Makalu                                              2386   \n",
       "\n",
       "                                                           Range  \\\n",
       "Mountain                                                           \n",
       "Mount Everest / Sagarmatha / Chomolungma     Mahalangur Himalaya   \n",
       "K2 / Qogir / Godwin Austen                     Baltoro Karakoram   \n",
       "Kangchenjunga                             Kangchenjunga Himalaya   \n",
       "Lhotse                                       Mahalangur Himalaya   \n",
       "Makalu                                       Mahalangur Himalaya   \n",
       "\n",
       "                                                      Coordinates  \\\n",
       "Mountain                                                            \n",
       "Mount Everest / Sagarmatha / Chomolungma  27°59′17″N 86°55′31″E﻿    \n",
       "K2 / Qogir / Godwin Austen                35°52′53″N 76°30′48″E﻿    \n",
       "Kangchenjunga                             27°42′12″N 88°08′51″E﻿    \n",
       "Lhotse                                    27°57′42″N 86°55′59″E﻿    \n",
       "Makalu                                    27°53′23″N 87°05′20″E﻿    \n",
       "\n",
       "                                         Parent mountain First ascent  \\\n",
       "Mountain                                                                \n",
       "Mount Everest / Sagarmatha / Chomolungma             NaN         1953   \n",
       "K2 / Qogir / Godwin Austen                 Mount Everest         1954   \n",
       "Kangchenjunga                              Mount Everest         1955   \n",
       "Lhotse                                     Mount Everest         1956   \n",
       "Makalu                                     Mount Everest         1955   \n",
       "\n",
       "                                         Ascents bef. 2004  \\\n",
       "Mountain                                                     \n",
       "Mount Everest / Sagarmatha / Chomolungma            >>145    \n",
       "K2 / Qogir / Godwin Austen                              45   \n",
       "Kangchenjunga                                           38   \n",
       "Lhotse                                                  26   \n",
       "Makalu                                                  45   \n",
       "\n",
       "                                          Failed attempts bef. 2004  \n",
       "Mountain                                                             \n",
       "Mount Everest / Sagarmatha / Chomolungma                      121.0  \n",
       "K2 / Qogir / Godwin Austen                                     44.0  \n",
       "Kangchenjunga                                                  24.0  \n",
       "Lhotse                                                         26.0  \n",
       "Makalu                                                         52.0  "
      ]
     },
     "execution_count": 37,
     "metadata": {},
     "output_type": "execute_result"
    }
   ],
   "source": [
    "df.head()"
   ]
  },
  {
   "cell_type": "code",
   "execution_count": 38,
   "id": "7b0602d6-7898-41a1-8301-08c7b0f2f5e6",
   "metadata": {},
   "outputs": [],
   "source": [
    "df.drop([\"Rank\", \"Height (ft)\", \"Coordinates\", \"Parent mountain\"], axis=1, inplace=True)"
   ]
  },
  {
   "cell_type": "code",
   "execution_count": 39,
   "id": "e7d90bc7-9143-48e0-a4e1-3fe466e5c06b",
   "metadata": {},
   "outputs": [
    {
     "data": {
      "text/html": [
       "<div>\n",
       "<style scoped>\n",
       "    .dataframe tbody tr th:only-of-type {\n",
       "        vertical-align: middle;\n",
       "    }\n",
       "\n",
       "    .dataframe tbody tr th {\n",
       "        vertical-align: top;\n",
       "    }\n",
       "\n",
       "    .dataframe thead th {\n",
       "        text-align: right;\n",
       "    }\n",
       "</style>\n",
       "<table border=\"1\" class=\"dataframe\">\n",
       "  <thead>\n",
       "    <tr style=\"text-align: right;\">\n",
       "      <th></th>\n",
       "      <th>Height (m)</th>\n",
       "      <th>Prominence (m)</th>\n",
       "      <th>Range</th>\n",
       "      <th>First ascent</th>\n",
       "      <th>Ascents bef. 2004</th>\n",
       "      <th>Failed attempts bef. 2004</th>\n",
       "    </tr>\n",
       "    <tr>\n",
       "      <th>Mountain</th>\n",
       "      <th></th>\n",
       "      <th></th>\n",
       "      <th></th>\n",
       "      <th></th>\n",
       "      <th></th>\n",
       "      <th></th>\n",
       "    </tr>\n",
       "  </thead>\n",
       "  <tbody>\n",
       "    <tr>\n",
       "      <th>Mount Everest / Sagarmatha / Chomolungma</th>\n",
       "      <td>8848</td>\n",
       "      <td>8848</td>\n",
       "      <td>Mahalangur Himalaya</td>\n",
       "      <td>1953</td>\n",
       "      <td>&gt;&gt;145</td>\n",
       "      <td>121.0</td>\n",
       "    </tr>\n",
       "    <tr>\n",
       "      <th>K2 / Qogir / Godwin Austen</th>\n",
       "      <td>8611</td>\n",
       "      <td>4017</td>\n",
       "      <td>Baltoro Karakoram</td>\n",
       "      <td>1954</td>\n",
       "      <td>45</td>\n",
       "      <td>44.0</td>\n",
       "    </tr>\n",
       "    <tr>\n",
       "      <th>Kangchenjunga</th>\n",
       "      <td>8586</td>\n",
       "      <td>3922</td>\n",
       "      <td>Kangchenjunga Himalaya</td>\n",
       "      <td>1955</td>\n",
       "      <td>38</td>\n",
       "      <td>24.0</td>\n",
       "    </tr>\n",
       "    <tr>\n",
       "      <th>Lhotse</th>\n",
       "      <td>8516</td>\n",
       "      <td>610</td>\n",
       "      <td>Mahalangur Himalaya</td>\n",
       "      <td>1956</td>\n",
       "      <td>26</td>\n",
       "      <td>26.0</td>\n",
       "    </tr>\n",
       "    <tr>\n",
       "      <th>Makalu</th>\n",
       "      <td>8485</td>\n",
       "      <td>2386</td>\n",
       "      <td>Mahalangur Himalaya</td>\n",
       "      <td>1955</td>\n",
       "      <td>45</td>\n",
       "      <td>52.0</td>\n",
       "    </tr>\n",
       "  </tbody>\n",
       "</table>\n",
       "</div>"
      ],
      "text/plain": [
       "                                          Height (m)  Prominence (m)  \\\n",
       "Mountain                                                               \n",
       "Mount Everest / Sagarmatha / Chomolungma        8848            8848   \n",
       "K2 / Qogir / Godwin Austen                      8611            4017   \n",
       "Kangchenjunga                                   8586            3922   \n",
       "Lhotse                                          8516             610   \n",
       "Makalu                                          8485            2386   \n",
       "\n",
       "                                                           Range First ascent  \\\n",
       "Mountain                                                                        \n",
       "Mount Everest / Sagarmatha / Chomolungma     Mahalangur Himalaya         1953   \n",
       "K2 / Qogir / Godwin Austen                     Baltoro Karakoram         1954   \n",
       "Kangchenjunga                             Kangchenjunga Himalaya         1955   \n",
       "Lhotse                                       Mahalangur Himalaya         1956   \n",
       "Makalu                                       Mahalangur Himalaya         1955   \n",
       "\n",
       "                                         Ascents bef. 2004  \\\n",
       "Mountain                                                     \n",
       "Mount Everest / Sagarmatha / Chomolungma            >>145    \n",
       "K2 / Qogir / Godwin Austen                              45   \n",
       "Kangchenjunga                                           38   \n",
       "Lhotse                                                  26   \n",
       "Makalu                                                  45   \n",
       "\n",
       "                                          Failed attempts bef. 2004  \n",
       "Mountain                                                             \n",
       "Mount Everest / Sagarmatha / Chomolungma                      121.0  \n",
       "K2 / Qogir / Godwin Austen                                     44.0  \n",
       "Kangchenjunga                                                  24.0  \n",
       "Lhotse                                                         26.0  \n",
       "Makalu                                                         52.0  "
      ]
     },
     "execution_count": 39,
     "metadata": {},
     "output_type": "execute_result"
    }
   ],
   "source": [
    "df.head()"
   ]
  },
  {
   "cell_type": "code",
   "execution_count": 40,
   "id": "23fc838b-b44f-4779-a53c-f80833dec071",
   "metadata": {},
   "outputs": [
    {
     "data": {
      "text/plain": [
       "Height (m)                                         7546\n",
       "Prominence (m)                                     2735\n",
       "Range                        Muztagata (Eastern Pamirs)\n",
       "First ascent                                       1956\n",
       "Ascents bef. 2004                                  Many\n",
       "Failed attempts bef. 2004                           NaN\n",
       "Name: Muztagh Ata, dtype: object"
      ]
     },
     "execution_count": 40,
     "metadata": {},
     "output_type": "execute_result"
    }
   ],
   "source": [
    "df.loc[\"Muztagh Ata\",:]"
   ]
  },
  {
   "cell_type": "code",
   "execution_count": 41,
   "id": "547ee03b-f243-4213-9dc5-f068278d82b8",
   "metadata": {
    "tags": []
   },
   "outputs": [
    {
     "data": {
      "text/html": [
       "<div>\n",
       "<style scoped>\n",
       "    .dataframe tbody tr th:only-of-type {\n",
       "        vertical-align: middle;\n",
       "    }\n",
       "\n",
       "    .dataframe tbody tr th {\n",
       "        vertical-align: top;\n",
       "    }\n",
       "\n",
       "    .dataframe thead th {\n",
       "        text-align: right;\n",
       "    }\n",
       "</style>\n",
       "<table border=\"1\" class=\"dataframe\">\n",
       "  <thead>\n",
       "    <tr style=\"text-align: right;\">\n",
       "      <th></th>\n",
       "      <th>Height (m)</th>\n",
       "      <th>Prominence (m)</th>\n",
       "      <th>Range</th>\n",
       "      <th>First ascent</th>\n",
       "      <th>Ascents bef. 2004</th>\n",
       "      <th>Failed attempts bef. 2004</th>\n",
       "    </tr>\n",
       "    <tr>\n",
       "      <th>Mountain</th>\n",
       "      <th></th>\n",
       "      <th></th>\n",
       "      <th></th>\n",
       "      <th></th>\n",
       "      <th></th>\n",
       "      <th></th>\n",
       "    </tr>\n",
       "  </thead>\n",
       "  <tbody>\n",
       "    <tr>\n",
       "      <th>K2 / Qogir / Godwin Austen</th>\n",
       "      <td>8611</td>\n",
       "      <td>4017</td>\n",
       "      <td>Baltoro Karakoram</td>\n",
       "      <td>1954</td>\n",
       "      <td>45</td>\n",
       "      <td>44.0</td>\n",
       "    </tr>\n",
       "    <tr>\n",
       "      <th>Kangchenjunga</th>\n",
       "      <td>8586</td>\n",
       "      <td>3922</td>\n",
       "      <td>Kangchenjunga Himalaya</td>\n",
       "      <td>1955</td>\n",
       "      <td>38</td>\n",
       "      <td>24.0</td>\n",
       "    </tr>\n",
       "    <tr>\n",
       "      <th>Lhotse</th>\n",
       "      <td>8516</td>\n",
       "      <td>610</td>\n",
       "      <td>Mahalangur Himalaya</td>\n",
       "      <td>1956</td>\n",
       "      <td>26</td>\n",
       "      <td>26.0</td>\n",
       "    </tr>\n",
       "    <tr>\n",
       "      <th>Makalu</th>\n",
       "      <td>8485</td>\n",
       "      <td>2386</td>\n",
       "      <td>Mahalangur Himalaya</td>\n",
       "      <td>1955</td>\n",
       "      <td>45</td>\n",
       "      <td>52.0</td>\n",
       "    </tr>\n",
       "    <tr>\n",
       "      <th>Cho Oyu</th>\n",
       "      <td>8188</td>\n",
       "      <td>2340</td>\n",
       "      <td>Mahalangur Himalaya</td>\n",
       "      <td>1954</td>\n",
       "      <td>79</td>\n",
       "      <td>28.0</td>\n",
       "    </tr>\n",
       "  </tbody>\n",
       "</table>\n",
       "</div>"
      ],
      "text/plain": [
       "                            Height (m)  Prominence (m)  \\\n",
       "Mountain                                                 \n",
       "K2 / Qogir / Godwin Austen        8611            4017   \n",
       "Kangchenjunga                     8586            3922   \n",
       "Lhotse                            8516             610   \n",
       "Makalu                            8485            2386   \n",
       "Cho Oyu                           8188            2340   \n",
       "\n",
       "                                             Range First ascent  \\\n",
       "Mountain                                                          \n",
       "K2 / Qogir / Godwin Austen       Baltoro Karakoram         1954   \n",
       "Kangchenjunga               Kangchenjunga Himalaya         1955   \n",
       "Lhotse                         Mahalangur Himalaya         1956   \n",
       "Makalu                         Mahalangur Himalaya         1955   \n",
       "Cho Oyu                        Mahalangur Himalaya         1954   \n",
       "\n",
       "                           Ascents bef. 2004  Failed attempts bef. 2004  \n",
       "Mountain                                                                 \n",
       "K2 / Qogir / Godwin Austen                45                       44.0  \n",
       "Kangchenjunga                             38                       24.0  \n",
       "Lhotse                                    26                       26.0  \n",
       "Makalu                                    45                       52.0  \n",
       "Cho Oyu                                   79                       28.0  "
      ]
     },
     "execution_count": 41,
     "metadata": {},
     "output_type": "execute_result"
    }
   ],
   "source": [
    "df.drop(\n",
    "    [\"Mount Everest / Sagarmatha / Chomolungma\", \"Muztagh Ata\"], axis=0, inplace=True\n",
    ")\n",
    "\n",
    "df.head()"
   ]
  },
  {
   "cell_type": "code",
   "execution_count": 42,
   "id": "92fafdb7-ca6d-478c-8838-dddd17259682",
   "metadata": {},
   "outputs": [
    {
     "data": {
      "text/html": [
       "<div>\n",
       "<style scoped>\n",
       "    .dataframe tbody tr th:only-of-type {\n",
       "        vertical-align: middle;\n",
       "    }\n",
       "\n",
       "    .dataframe tbody tr th {\n",
       "        vertical-align: top;\n",
       "    }\n",
       "\n",
       "    .dataframe thead th {\n",
       "        text-align: right;\n",
       "    }\n",
       "</style>\n",
       "<table border=\"1\" class=\"dataframe\">\n",
       "  <thead>\n",
       "    <tr style=\"text-align: right;\">\n",
       "      <th></th>\n",
       "      <th>Height (m)</th>\n",
       "      <th>Prominence (m)</th>\n",
       "      <th>Range</th>\n",
       "      <th>First ascent</th>\n",
       "      <th>Ascents bef. 2004</th>\n",
       "      <th>Failed attempts bef. 2004</th>\n",
       "    </tr>\n",
       "    <tr>\n",
       "      <th>Mountain</th>\n",
       "      <th></th>\n",
       "      <th></th>\n",
       "      <th></th>\n",
       "      <th></th>\n",
       "      <th></th>\n",
       "      <th></th>\n",
       "    </tr>\n",
       "  </thead>\n",
       "  <tbody>\n",
       "    <tr>\n",
       "      <th>Gangkhar Puensum</th>\n",
       "      <td>7570</td>\n",
       "      <td>2995</td>\n",
       "      <td>Kula Kangri Himalaya</td>\n",
       "      <td>unclimbed</td>\n",
       "      <td>0</td>\n",
       "      <td>3.0</td>\n",
       "    </tr>\n",
       "    <tr>\n",
       "      <th>Labuche Kang III / East</th>\n",
       "      <td>7250</td>\n",
       "      <td>570</td>\n",
       "      <td>Labuche Himalaya</td>\n",
       "      <td>unclimbed</td>\n",
       "      <td>0</td>\n",
       "      <td>0.0</td>\n",
       "    </tr>\n",
       "    <tr>\n",
       "      <th>Karjiang</th>\n",
       "      <td>7221</td>\n",
       "      <td>880</td>\n",
       "      <td>Kula Kangri Himalaya</td>\n",
       "      <td>unclimbed</td>\n",
       "      <td>0</td>\n",
       "      <td>2.0</td>\n",
       "    </tr>\n",
       "    <tr>\n",
       "      <th>Tongshanjiabu</th>\n",
       "      <td>7207</td>\n",
       "      <td>1757</td>\n",
       "      <td>Lunana Himalaya</td>\n",
       "      <td>unclimbed</td>\n",
       "      <td>0</td>\n",
       "      <td>0.0</td>\n",
       "    </tr>\n",
       "  </tbody>\n",
       "</table>\n",
       "</div>"
      ],
      "text/plain": [
       "                         Height (m)  Prominence (m)                 Range  \\\n",
       "Mountain                                                                    \n",
       "Gangkhar Puensum               7570            2995  Kula Kangri Himalaya   \n",
       "Labuche Kang III / East        7250             570      Labuche Himalaya   \n",
       "Karjiang                       7221             880  Kula Kangri Himalaya   \n",
       "Tongshanjiabu                  7207            1757       Lunana Himalaya   \n",
       "\n",
       "                        First ascent Ascents bef. 2004  \\\n",
       "Mountain                                                 \n",
       "Gangkhar Puensum           unclimbed                 0   \n",
       "Labuche Kang III / East    unclimbed                 0   \n",
       "Karjiang                   unclimbed                 0   \n",
       "Tongshanjiabu              unclimbed                 0   \n",
       "\n",
       "                         Failed attempts bef. 2004  \n",
       "Mountain                                            \n",
       "Gangkhar Puensum                               3.0  \n",
       "Labuche Kang III / East                        0.0  \n",
       "Karjiang                                       2.0  \n",
       "Tongshanjiabu                                  0.0  "
      ]
     },
     "execution_count": 42,
     "metadata": {},
     "output_type": "execute_result"
    }
   ],
   "source": [
    "df[df[\"First ascent\"] == \"unclimbed\"]"
   ]
  },
  {
   "cell_type": "code",
   "execution_count": 43,
   "id": "b8cbdc0d-15ca-4f01-a18f-5ae2b79a3157",
   "metadata": {},
   "outputs": [],
   "source": [
    "df = df[df[\"First ascent\"] != \"unclimbed\"].copy()"
   ]
  },
  {
   "cell_type": "code",
   "execution_count": 44,
   "id": "c2a61e5b-278d-4790-abda-e5e9a2c49184",
   "metadata": {},
   "outputs": [
    {
     "data": {
      "text/plain": [
       "Mountain\n",
       "K2 / Qogir / Godwin Austen       True\n",
       "Kangchenjunga                    True\n",
       "Lhotse                           True\n",
       "Makalu                           True\n",
       "Cho Oyu                          True\n",
       "                                ...  \n",
       "Noijin Kangsang / Norin Kang    False\n",
       "Langtang Ri                     False\n",
       "Kangphu Kang                    False\n",
       "Singhi Kangri                   False\n",
       "Lupghar Sar                     False\n",
       "Name: Height (m), Length: 112, dtype: bool"
      ]
     },
     "execution_count": 44,
     "metadata": {},
     "output_type": "execute_result"
    }
   ],
   "source": [
    "df[\"Height (m)\"] > 8000"
   ]
  },
  {
   "cell_type": "code",
   "execution_count": 45,
   "id": "754cea64-1442-43cd-97de-34a54c2887bf",
   "metadata": {},
   "outputs": [
    {
     "data": {
      "text/html": [
       "<div>\n",
       "<style scoped>\n",
       "    .dataframe tbody tr th:only-of-type {\n",
       "        vertical-align: middle;\n",
       "    }\n",
       "\n",
       "    .dataframe tbody tr th {\n",
       "        vertical-align: top;\n",
       "    }\n",
       "\n",
       "    .dataframe thead th {\n",
       "        text-align: right;\n",
       "    }\n",
       "</style>\n",
       "<table border=\"1\" class=\"dataframe\">\n",
       "  <thead>\n",
       "    <tr style=\"text-align: right;\">\n",
       "      <th></th>\n",
       "      <th>Height (m)</th>\n",
       "      <th>Prominence (m)</th>\n",
       "      <th>Range</th>\n",
       "      <th>First ascent</th>\n",
       "      <th>Ascents bef. 2004</th>\n",
       "      <th>Failed attempts bef. 2004</th>\n",
       "    </tr>\n",
       "    <tr>\n",
       "      <th>Mountain</th>\n",
       "      <th></th>\n",
       "      <th></th>\n",
       "      <th></th>\n",
       "      <th></th>\n",
       "      <th></th>\n",
       "      <th></th>\n",
       "    </tr>\n",
       "  </thead>\n",
       "  <tbody>\n",
       "    <tr>\n",
       "      <th>K2 / Qogir / Godwin Austen</th>\n",
       "      <td>8611</td>\n",
       "      <td>4017</td>\n",
       "      <td>Baltoro Karakoram</td>\n",
       "      <td>1954</td>\n",
       "      <td>45</td>\n",
       "      <td>44.0</td>\n",
       "    </tr>\n",
       "    <tr>\n",
       "      <th>Kangchenjunga</th>\n",
       "      <td>8586</td>\n",
       "      <td>3922</td>\n",
       "      <td>Kangchenjunga Himalaya</td>\n",
       "      <td>1955</td>\n",
       "      <td>38</td>\n",
       "      <td>24.0</td>\n",
       "    </tr>\n",
       "    <tr>\n",
       "      <th>Lhotse</th>\n",
       "      <td>8516</td>\n",
       "      <td>610</td>\n",
       "      <td>Mahalangur Himalaya</td>\n",
       "      <td>1956</td>\n",
       "      <td>26</td>\n",
       "      <td>26.0</td>\n",
       "    </tr>\n",
       "    <tr>\n",
       "      <th>Makalu</th>\n",
       "      <td>8485</td>\n",
       "      <td>2386</td>\n",
       "      <td>Mahalangur Himalaya</td>\n",
       "      <td>1955</td>\n",
       "      <td>45</td>\n",
       "      <td>52.0</td>\n",
       "    </tr>\n",
       "    <tr>\n",
       "      <th>Cho Oyu</th>\n",
       "      <td>8188</td>\n",
       "      <td>2340</td>\n",
       "      <td>Mahalangur Himalaya</td>\n",
       "      <td>1954</td>\n",
       "      <td>79</td>\n",
       "      <td>28.0</td>\n",
       "    </tr>\n",
       "  </tbody>\n",
       "</table>\n",
       "</div>"
      ],
      "text/plain": [
       "                            Height (m)  Prominence (m)  \\\n",
       "Mountain                                                 \n",
       "K2 / Qogir / Godwin Austen        8611            4017   \n",
       "Kangchenjunga                     8586            3922   \n",
       "Lhotse                            8516             610   \n",
       "Makalu                            8485            2386   \n",
       "Cho Oyu                           8188            2340   \n",
       "\n",
       "                                             Range First ascent  \\\n",
       "Mountain                                                          \n",
       "K2 / Qogir / Godwin Austen       Baltoro Karakoram         1954   \n",
       "Kangchenjunga               Kangchenjunga Himalaya         1955   \n",
       "Lhotse                         Mahalangur Himalaya         1956   \n",
       "Makalu                         Mahalangur Himalaya         1955   \n",
       "Cho Oyu                        Mahalangur Himalaya         1954   \n",
       "\n",
       "                           Ascents bef. 2004  Failed attempts bef. 2004  \n",
       "Mountain                                                                 \n",
       "K2 / Qogir / Godwin Austen                45                       44.0  \n",
       "Kangchenjunga                             38                       24.0  \n",
       "Lhotse                                    26                       26.0  \n",
       "Makalu                                    45                       52.0  \n",
       "Cho Oyu                                   79                       28.0  "
      ]
     },
     "execution_count": 45,
     "metadata": {},
     "output_type": "execute_result"
    }
   ],
   "source": [
    "df[df[\"Height (m)\"] > 8000].head()"
   ]
  },
  {
   "cell_type": "code",
   "execution_count": 46,
   "id": "fffdce3a-08b3-4f04-a2c2-3c4441731f4e",
   "metadata": {},
   "outputs": [],
   "source": [
    "df.dropna(inplace=True)"
   ]
  },
  {
   "cell_type": "code",
   "execution_count": 47,
   "id": "899fe01a-57bc-45dc-97e2-d9026bee9755",
   "metadata": {},
   "outputs": [
    {
     "name": "stdout",
     "output_type": "stream",
     "text": [
      "<class 'pandas.core.frame.DataFrame'>\n",
      "Index: 110 entries, K2 / Qogir / Godwin Austen to Lupghar Sar\n",
      "Data columns (total 6 columns):\n",
      " #   Column                     Non-Null Count  Dtype  \n",
      "---  ------                     --------------  -----  \n",
      " 0   Height (m)                 110 non-null    int64  \n",
      " 1   Prominence (m)             110 non-null    int64  \n",
      " 2   Range                      110 non-null    object \n",
      " 3   First ascent               110 non-null    object \n",
      " 4   Ascents bef. 2004          110 non-null    object \n",
      " 5   Failed attempts bef. 2004  110 non-null    float64\n",
      "dtypes: float64(1), int64(2), object(3)\n",
      "memory usage: 6.0+ KB\n"
     ]
    }
   ],
   "source": [
    "df.info()"
   ]
  },
  {
   "cell_type": "code",
   "execution_count": 48,
   "id": "b673f45b-4d2f-48a4-909b-ff4e9c22fd65",
   "metadata": {},
   "outputs": [],
   "source": [
    "df[\"First ascent\"] = df[\"First ascent\"].astype(int)\n",
    "df[\"Ascents bef. 2004\"] = df[\"Ascents bef. 2004\"].astype(int)\n",
    "df[\"Failed attempts bef. 2004\"] = df[\"Failed attempts bef. 2004\"].astype(int)"
   ]
  },
  {
   "cell_type": "code",
   "execution_count": 49,
   "id": "b88c8a09-6e5e-4ffa-a33d-aebfdbdeec2d",
   "metadata": {},
   "outputs": [
    {
     "name": "stdout",
     "output_type": "stream",
     "text": [
      "<class 'pandas.core.frame.DataFrame'>\n",
      "Index: 110 entries, K2 / Qogir / Godwin Austen to Lupghar Sar\n",
      "Data columns (total 6 columns):\n",
      " #   Column                     Non-Null Count  Dtype \n",
      "---  ------                     --------------  ----- \n",
      " 0   Height (m)                 110 non-null    int64 \n",
      " 1   Prominence (m)             110 non-null    int64 \n",
      " 2   Range                      110 non-null    object\n",
      " 3   First ascent               110 non-null    int64 \n",
      " 4   Ascents bef. 2004          110 non-null    int64 \n",
      " 5   Failed attempts bef. 2004  110 non-null    int64 \n",
      "dtypes: int64(5), object(1)\n",
      "memory usage: 6.0+ KB\n"
     ]
    }
   ],
   "source": [
    "df.info()"
   ]
  },
  {
   "cell_type": "code",
   "execution_count": 50,
   "id": "4dcd60b6-51e5-4eb1-b3b5-2550b75ded4d",
   "metadata": {},
   "outputs": [],
   "source": [
    "new_filename = \"Mountains_Cleaned.csv\"\n",
    "df.to_csv(new_filename, encoding=\"utf-8\")"
   ]
  },
  {
   "cell_type": "code",
   "execution_count": 51,
   "id": "51f7f0e4-b391-43bd-a992-7ab9f6e5f61e",
   "metadata": {},
   "outputs": [],
   "source": [
    "df[\"Total attempts\"] = df[\"Ascents bef. 2004\"] + df[\"Failed attempts bef. 2004\"]"
   ]
  },
  {
   "cell_type": "code",
   "execution_count": 52,
   "id": "28622a2c-ebab-4a27-af55-ebc39ca4df9f",
   "metadata": {},
   "outputs": [],
   "source": [
    "df[\"Success rate\"] = (df[\"Ascents bef. 2004\"] / df[\"Total attempts\"]) * 100"
   ]
  },
  {
   "cell_type": "code",
   "execution_count": 53,
   "id": "0fd0e65c-cf2b-4b09-8966-17511b29c8a4",
   "metadata": {},
   "outputs": [],
   "source": [
    "df[\"Difficulty\"] = (df[\"Total attempts\"] / df[\"Success rate\"]) * 100"
   ]
  },
  {
   "cell_type": "code",
   "execution_count": 54,
   "id": "685a0360-99fe-4b9f-812c-92b8ea00bc04",
   "metadata": {},
   "outputs": [],
   "source": [
    "df[\"Difficulty\"] = df[\"Difficulty\"] / df[\"Difficulty\"].max()"
   ]
  },
  {
   "cell_type": "code",
   "execution_count": 55,
   "id": "a8468dc4-0915-4eca-868d-87b27016f5cc",
   "metadata": {},
   "outputs": [],
   "source": [
    "df = df.sort_values(by=\"Difficulty\", ascending=False)"
   ]
  },
  {
   "cell_type": "code",
   "execution_count": 56,
   "id": "ca331594-2dd2-4d66-bff6-56c6854fdf58",
   "metadata": {},
   "outputs": [
    {
     "data": {
      "text/html": [
       "<div>\n",
       "<style scoped>\n",
       "    .dataframe tbody tr th:only-of-type {\n",
       "        vertical-align: middle;\n",
       "    }\n",
       "\n",
       "    .dataframe tbody tr th {\n",
       "        vertical-align: top;\n",
       "    }\n",
       "\n",
       "    .dataframe thead th {\n",
       "        text-align: right;\n",
       "    }\n",
       "</style>\n",
       "<table border=\"1\" class=\"dataframe\">\n",
       "  <thead>\n",
       "    <tr style=\"text-align: right;\">\n",
       "      <th></th>\n",
       "      <th>Height (m)</th>\n",
       "      <th>Prominence (m)</th>\n",
       "      <th>Range</th>\n",
       "      <th>First ascent</th>\n",
       "      <th>Ascents bef. 2004</th>\n",
       "      <th>Failed attempts bef. 2004</th>\n",
       "      <th>Total attempts</th>\n",
       "      <th>Success rate</th>\n",
       "      <th>Difficulty</th>\n",
       "    </tr>\n",
       "    <tr>\n",
       "      <th>Mountain</th>\n",
       "      <th></th>\n",
       "      <th></th>\n",
       "      <th></th>\n",
       "      <th></th>\n",
       "      <th></th>\n",
       "      <th></th>\n",
       "      <th></th>\n",
       "      <th></th>\n",
       "      <th></th>\n",
       "    </tr>\n",
       "  </thead>\n",
       "  <tbody>\n",
       "    <tr>\n",
       "      <th>Nanga Parbat</th>\n",
       "      <td>8126</td>\n",
       "      <td>4608</td>\n",
       "      <td>Nanga Parbat Himalaya</td>\n",
       "      <td>1953</td>\n",
       "      <td>52</td>\n",
       "      <td>67</td>\n",
       "      <td>119</td>\n",
       "      <td>43.697479</td>\n",
       "      <td>1.000000</td>\n",
       "    </tr>\n",
       "    <tr>\n",
       "      <th>Makalu</th>\n",
       "      <td>8485</td>\n",
       "      <td>2386</td>\n",
       "      <td>Mahalangur Himalaya</td>\n",
       "      <td>1955</td>\n",
       "      <td>45</td>\n",
       "      <td>52</td>\n",
       "      <td>97</td>\n",
       "      <td>46.391753</td>\n",
       "      <td>0.767786</td>\n",
       "    </tr>\n",
       "    <tr>\n",
       "      <th>Annapurna I</th>\n",
       "      <td>8091</td>\n",
       "      <td>2984</td>\n",
       "      <td>Annapurna Himalaya</td>\n",
       "      <td>1950</td>\n",
       "      <td>36</td>\n",
       "      <td>47</td>\n",
       "      <td>83</td>\n",
       "      <td>43.373494</td>\n",
       "      <td>0.702689</td>\n",
       "    </tr>\n",
       "    <tr>\n",
       "      <th>Manaslu</th>\n",
       "      <td>8163</td>\n",
       "      <td>3092</td>\n",
       "      <td>Manaslu Himalaya</td>\n",
       "      <td>1956</td>\n",
       "      <td>49</td>\n",
       "      <td>45</td>\n",
       "      <td>94</td>\n",
       "      <td>52.127660</td>\n",
       "      <td>0.662169</td>\n",
       "    </tr>\n",
       "    <tr>\n",
       "      <th>K2 / Qogir / Godwin Austen</th>\n",
       "      <td>8611</td>\n",
       "      <td>4017</td>\n",
       "      <td>Baltoro Karakoram</td>\n",
       "      <td>1954</td>\n",
       "      <td>45</td>\n",
       "      <td>44</td>\n",
       "      <td>89</td>\n",
       "      <td>50.561798</td>\n",
       "      <td>0.646364</td>\n",
       "    </tr>\n",
       "    <tr>\n",
       "      <th>Dhaulagiri I</th>\n",
       "      <td>8167</td>\n",
       "      <td>3357</td>\n",
       "      <td>Dhaulagiri Himalaya</td>\n",
       "      <td>1960</td>\n",
       "      <td>51</td>\n",
       "      <td>39</td>\n",
       "      <td>90</td>\n",
       "      <td>56.666667</td>\n",
       "      <td>0.583209</td>\n",
       "    </tr>\n",
       "    <tr>\n",
       "      <th>Cho Oyu</th>\n",
       "      <td>8188</td>\n",
       "      <td>2340</td>\n",
       "      <td>Mahalangur Himalaya</td>\n",
       "      <td>1954</td>\n",
       "      <td>79</td>\n",
       "      <td>28</td>\n",
       "      <td>107</td>\n",
       "      <td>73.831776</td>\n",
       "      <td>0.532169</td>\n",
       "    </tr>\n",
       "    <tr>\n",
       "      <th>Annapurna II</th>\n",
       "      <td>7937</td>\n",
       "      <td>2437</td>\n",
       "      <td>Annapurna Himalaya</td>\n",
       "      <td>1960</td>\n",
       "      <td>6</td>\n",
       "      <td>19</td>\n",
       "      <td>25</td>\n",
       "      <td>24.000000</td>\n",
       "      <td>0.382506</td>\n",
       "    </tr>\n",
       "    <tr>\n",
       "      <th>Lhotse</th>\n",
       "      <td>8516</td>\n",
       "      <td>610</td>\n",
       "      <td>Mahalangur Himalaya</td>\n",
       "      <td>1956</td>\n",
       "      <td>26</td>\n",
       "      <td>26</td>\n",
       "      <td>52</td>\n",
       "      <td>50.000000</td>\n",
       "      <td>0.381894</td>\n",
       "    </tr>\n",
       "    <tr>\n",
       "      <th>Kangchenjunga</th>\n",
       "      <td>8586</td>\n",
       "      <td>3922</td>\n",
       "      <td>Kangchenjunga Himalaya</td>\n",
       "      <td>1955</td>\n",
       "      <td>38</td>\n",
       "      <td>24</td>\n",
       "      <td>62</td>\n",
       "      <td>61.290323</td>\n",
       "      <td>0.371458</td>\n",
       "    </tr>\n",
       "  </tbody>\n",
       "</table>\n",
       "</div>"
      ],
      "text/plain": [
       "                            Height (m)  Prominence (m)  \\\n",
       "Mountain                                                 \n",
       "Nanga Parbat                      8126            4608   \n",
       "Makalu                            8485            2386   \n",
       "Annapurna I                       8091            2984   \n",
       "Manaslu                           8163            3092   \n",
       "K2 / Qogir / Godwin Austen        8611            4017   \n",
       "Dhaulagiri I                      8167            3357   \n",
       "Cho Oyu                           8188            2340   \n",
       "Annapurna II                      7937            2437   \n",
       "Lhotse                            8516             610   \n",
       "Kangchenjunga                     8586            3922   \n",
       "\n",
       "                                             Range  First ascent  \\\n",
       "Mountain                                                           \n",
       "Nanga Parbat                 Nanga Parbat Himalaya          1953   \n",
       "Makalu                         Mahalangur Himalaya          1955   \n",
       "Annapurna I                     Annapurna Himalaya          1950   \n",
       "Manaslu                           Manaslu Himalaya          1956   \n",
       "K2 / Qogir / Godwin Austen       Baltoro Karakoram          1954   \n",
       "Dhaulagiri I                   Dhaulagiri Himalaya          1960   \n",
       "Cho Oyu                        Mahalangur Himalaya          1954   \n",
       "Annapurna II                    Annapurna Himalaya          1960   \n",
       "Lhotse                         Mahalangur Himalaya          1956   \n",
       "Kangchenjunga               Kangchenjunga Himalaya          1955   \n",
       "\n",
       "                            Ascents bef. 2004  Failed attempts bef. 2004  \\\n",
       "Mountain                                                                   \n",
       "Nanga Parbat                               52                         67   \n",
       "Makalu                                     45                         52   \n",
       "Annapurna I                                36                         47   \n",
       "Manaslu                                    49                         45   \n",
       "K2 / Qogir / Godwin Austen                 45                         44   \n",
       "Dhaulagiri I                               51                         39   \n",
       "Cho Oyu                                    79                         28   \n",
       "Annapurna II                                6                         19   \n",
       "Lhotse                                     26                         26   \n",
       "Kangchenjunga                              38                         24   \n",
       "\n",
       "                            Total attempts  Success rate  Difficulty  \n",
       "Mountain                                                              \n",
       "Nanga Parbat                           119     43.697479    1.000000  \n",
       "Makalu                                  97     46.391753    0.767786  \n",
       "Annapurna I                             83     43.373494    0.702689  \n",
       "Manaslu                                 94     52.127660    0.662169  \n",
       "K2 / Qogir / Godwin Austen              89     50.561798    0.646364  \n",
       "Dhaulagiri I                            90     56.666667    0.583209  \n",
       "Cho Oyu                                107     73.831776    0.532169  \n",
       "Annapurna II                            25     24.000000    0.382506  \n",
       "Lhotse                                  52     50.000000    0.381894  \n",
       "Kangchenjunga                           62     61.290323    0.371458  "
      ]
     },
     "execution_count": 56,
     "metadata": {},
     "output_type": "execute_result"
    }
   ],
   "source": [
    "df.head(10)"
   ]
  },
  {
   "cell_type": "code",
   "execution_count": 57,
   "id": "a7d39c1a-fc8f-44b4-aab4-7c9df66f4e8d",
   "metadata": {},
   "outputs": [],
   "source": [
    "df = df.reset_index().set_index(\"Mountain\")"
   ]
  },
  {
   "cell_type": "code",
   "execution_count": 58,
   "id": "9f6ec7ba-e6be-4af4-838a-85b2b8e927b3",
   "metadata": {},
   "outputs": [],
   "source": [
    "values = df[0:10][\"Difficulty\"]"
   ]
  },
  {
   "cell_type": "code",
   "execution_count": 59,
   "id": "6b3195de-06f2-4d37-95ff-b30a02c719a3",
   "metadata": {},
   "outputs": [
    {
     "data": {
      "image/png": "[encoded data removed]",
      "text/plain": [
       "<Figure size 640x480 with 1 Axes>"
      ]
     },
     "metadata": {},
     "output_type": "display_data"
    }
   ],
   "source": [
    "bar_plot = values.plot.barh()"
   ]
  },
  {
   "cell_type": "code",
   "execution_count": 60,
   "id": "9c451433-fd3b-4e9a-af47-dbec9fbf9312",
   "metadata": {},
   "outputs": [
    {
     "data": {
      "image/png": "[encoded data removed]",
      "text/plain": [
       "<Figure size 640x480 with 1 Axes>"
      ]
     },
     "metadata": {},
     "output_type": "display_data"
    }
   ],
   "source": [
    "colormap = plt.cm.tab10(range(0, len(values)))\n",
    "bar_plot = values.plot.barh(color=colormap)"
   ]
  },
  {
   "cell_type": "code",
   "execution_count": 61,
   "id": "1022cfe1-4615-4be3-9be0-89ff2187d1cd",
   "metadata": {},
   "outputs": [
    {
     "data": {
      "image/png": "[encoded data removed]",
      "text/plain": [
       "<Figure size 640x480 with 1 Axes>"
      ]
     },
     "metadata": {},
     "output_type": "display_data"
    }
   ],
   "source": [
    "values = df[0:10][\"Difficulty\"]\n",
    "colormap = plt.cm.tab10(range(0, len(values)))\n",
    "bar_plot = values.plot.barh(color=colormap)\n",
    "plt.show()"
   ]
  },
  {
   "cell_type": "code",
   "execution_count": 62,
   "id": "5a5ca4dd-e6ff-428e-b9b3-d859f9c5c9ab",
   "metadata": {},
   "outputs": [
    {
     "data": {
      "image/png": "[encoded data removed]",
      "text/plain": [
       "<Figure size 640x480 with 1 Axes>"
      ]
     },
     "metadata": {},
     "output_type": "display_data"
    }
   ],
   "source": [
    "bar_plot = values.plot.barh(color=colormap)\n",
    "bar_plot.set_title(\"The 10 most difficult mountains\")\n",
    "bar_plot.set_xlabel(\"Difficulty\")\n",
    "bar_plot.invert_yaxis()\n",
    "plt.show(bar_plot)"
   ]
  },
  {
   "cell_type": "code",
   "execution_count": 63,
   "id": "9848a6b5-0690-4d72-ba99-8a9c6b2638b9",
   "metadata": {},
   "outputs": [
    {
     "data": {
      "image/png": "[encoded data removed]",
      "text/plain": [
       "<Figure size 640x480 with 1 Axes>"
      ]
     },
     "metadata": {},
     "output_type": "display_data"
    }
   ],
   "source": [
    "df[\"First ascent\"].plot.hist()\n",
    "plt.show()"
   ]
  },
  {
   "cell_type": "code",
   "execution_count": 64,
   "id": "30f37efe-a687-45af-8314-8eb619625878",
   "metadata": {},
   "outputs": [
    {
     "data": {
      "image/png": "[encoded data removed]",
      "text/plain": [
       "<Figure size 640x480 with 1 Axes>"
      ]
     },
     "metadata": {},
     "output_type": "display_data"
    }
   ],
   "source": [
    "hist = df[\"First ascent\"].plot.hist(bins=20, color=\"orange\", edgecolor=\"black\")\n",
    "hist.set_xlabel(\"Year\")\n",
    "hist.set_ylabel(\"Number of first ascents\")\n",
    "hist.set_title(\"Popular years for climbing\")\n",
    "plt.show()"
   ]
  },
  {
   "cell_type": "code",
   "execution_count": 65,
   "id": "165327b1-99d7-46e8-95b6-b6decdf5d4b7",
   "metadata": {},
   "outputs": [
    {
     "data": {
      "text/plain": [
       "Mountain\n",
       "Nanga Parbat                   True\n",
       "Makalu                         True\n",
       "Annapurna I                    True\n",
       "Manaslu                        True\n",
       "K2 / Qogir / Godwin Austen     True\n",
       "                              ...  \n",
       "Baltoro Kangri                False\n",
       "Gyala Peri                    False\n",
       "Saser Kangri III              False\n",
       "Lupghar Sar                   False\n",
       "Saser Kangri II E             False\n",
       "Name: Height (m), Length: 110, dtype: bool"
      ]
     },
     "execution_count": 65,
     "metadata": {},
     "output_type": "execute_result"
    }
   ],
   "source": [
    "df[\"Height (m)\"] > 8000"
   ]
  },
  {
   "cell_type": "code",
   "execution_count": 66,
   "id": "34f1baa9-d49c-481f-a2fe-3f1364e4e75a",
   "metadata": {},
   "outputs": [],
   "source": [
    "high = df[\"Height (m)\"] > 8000"
   ]
  },
  {
   "cell_type": "code",
   "execution_count": 67,
   "id": "e705e208-614e-43a0-9dec-00733e45272c",
   "metadata": {},
   "outputs": [
    {
     "data": {
      "text/plain": [
       "Mountain\n",
       "Nanga Parbat                       1953\n",
       "Makalu                             1955\n",
       "Annapurna I                        1950\n",
       "Manaslu                            1956\n",
       "K2 / Qogir / Godwin Austen         1954\n",
       "Dhaulagiri I                       1960\n",
       "Cho Oyu                            1954\n",
       "Lhotse                             1956\n",
       "Kangchenjunga                      1955\n",
       "Shishapangma                       1964\n",
       "Broad Peak / K3                    1957\n",
       "Gasherbrum II / K4                 1956\n",
       "Gasherbrum I / Hidden Peak / K5    1958\n",
       "Name: First ascent, dtype: int64"
      ]
     },
     "execution_count": 67,
     "metadata": {},
     "output_type": "execute_result"
    }
   ],
   "source": [
    "df.loc[high, \"First ascent\"]"
   ]
  },
  {
   "cell_type": "code",
   "execution_count": 68,
   "id": "e504d55a-e7d1-4424-a86b-4a4fd910f6c6",
   "metadata": {},
   "outputs": [
    {
     "data": {
      "text/plain": [
       "Mountain\n",
       "Annapurna II                1960\n",
       "Baintha Brakk / The Ogre    1977\n",
       "Annapurna III               1961\n",
       "Dhaulagiri IV               1975\n",
       "Annapurna Dakshin           1964\n",
       "                            ... \n",
       "Baltoro Kangri              1976\n",
       "Gyala Peri                  1986\n",
       "Saser Kangri III            1986\n",
       "Lupghar Sar                 1979\n",
       "Saser Kangri II E           2011\n",
       "Name: First ascent, Length: 97, dtype: int64"
      ]
     },
     "execution_count": 68,
     "metadata": {},
     "output_type": "execute_result"
    }
   ],
   "source": [
    "df.loc[~high, \"First ascent\"]"
   ]
  },
  {
   "cell_type": "code",
   "execution_count": 69,
   "id": "01808c16-62fb-4063-9359-5e9a425e6b61",
   "metadata": {},
   "outputs": [
    {
     "data": {
      "image/png": "[encoded data removed]",
      "text/plain": [
       "<Figure size 640x480 with 1 Axes>"
      ]
     },
     "metadata": {},
     "output_type": "display_data"
    }
   ],
   "source": [
    "plt.hist(\n",
    "    [df.loc[high, \"First ascent\"], df.loc[~high, \"First ascent\"]],\n",
    "    stacked=True,\n",
    "    edgecolor=\"black\",\n",
    "    bins=20,\n",
    ")\n",
    "\n",
    "plt.legend([\"over 8000m\", \"under 8000m\"], loc=\"upper right\")\n",
    "plt.xlabel(\"Year\")\n",
    "plt.ylabel(\"Number of first ascents\")\n",
    "plt.title(\"Year of first ascent\")\n",
    "plt.show()"
   ]
  },
  {
   "cell_type": "code",
   "execution_count": 70,
   "id": "ada64864-b496-4a03-a9cc-7068cb2cb1d8",
   "metadata": {},
   "outputs": [
    {
     "data": {
      "image/png": "[encoded data removed]",
      "text/plain": [
       "<Figure size 640x480 with 1 Axes>"
      ]
     },
     "metadata": {},
     "output_type": "display_data"
    }
   ],
   "source": [
    "plt.scatter(df[\"Height (m)\"], df[\"Total attempts\"])\n",
    "plt.show()"
   ]
  },
  {
   "cell_type": "code",
   "execution_count": 71,
   "id": "432eeeba-a2d6-4054-8ecd-c3f092905f0a",
   "metadata": {},
   "outputs": [
    {
     "data": {
      "image/png": "[encoded data removed]",
      "text/plain": [
       "<Figure size 640x480 with 1 Axes>"
      ]
     },
     "metadata": {},
     "output_type": "display_data"
    }
   ],
   "source": [
    "plt.scatter(df[\"Height (m)\"], df[\"Total attempts\"], color=\"red\", edgecolor=\"black\")\n",
    "plt.ylabel(\"Total attempts\")\n",
    "plt.xlabel(\"Mountain height\")\n",
    "plt.title(\"Number of total attempts vs mountain height\", fontsize=14)\n",
    "plt.show()"
   ]
  },
  {
   "cell_type": "code",
   "execution_count": 72,
   "id": "68b1b846-16a5-4967-9d91-22ae4f5c6363",
   "metadata": {},
   "outputs": [
    {
     "data": {
      "text/plain": [
       "Mountain\n",
       "Nanga Parbat                   Nanga Parbat Himalaya\n",
       "Makalu                           Mahalangur Himalaya\n",
       "Annapurna I                       Annapurna Himalaya\n",
       "Manaslu                             Manaslu Himalaya\n",
       "K2 / Qogir / Godwin Austen         Baltoro Karakoram\n",
       "Dhaulagiri I                     Dhaulagiri Himalaya\n",
       "Cho Oyu                          Mahalangur Himalaya\n",
       "Annapurna II                      Annapurna Himalaya\n",
       "Lhotse                           Mahalangur Himalaya\n",
       "Kangchenjunga                 Kangchenjunga Himalaya\n",
       "Name: Range, dtype: object"
      ]
     },
     "execution_count": 72,
     "metadata": {},
     "output_type": "execute_result"
    }
   ],
   "source": [
    "df[\"Range\"].head(10)"
   ]
  },
  {
   "cell_type": "code",
   "execution_count": 74,
   "id": "3e150670-2da9-4446-9742-b229c2b2a9d4",
   "metadata": {},
   "outputs": [],
   "source": [
    "Himalaya = [True if \"Himalaya\" in str(x) else False for x in df[\"Range\"]]"
   ]
  },
  {
   "cell_type": "code",
   "execution_count": 75,
   "id": "314a4d56-31d3-4427-b4cc-9dfb8e594905",
   "metadata": {},
   "outputs": [],
   "source": [
    "Himalaya = [\"Himalaya\" in str(x) for x in df[\"Range\"]]"
   ]
  },
  {
   "cell_type": "code",
   "execution_count": 76,
   "id": "830d61d8-abc8-41fb-91d8-93ce4036c81c",
   "metadata": {},
   "outputs": [],
   "source": [
    "count = df[Himalaya].groupby(\"Range\").size()"
   ]
  },
  {
   "cell_type": "code",
   "execution_count": 77,
   "id": "87dd432c-4fba-4a09-b29b-4498106ad761",
   "metadata": {},
   "outputs": [],
   "source": [
    "count = count.sort_values()"
   ]
  },
  {
   "cell_type": "code",
   "execution_count": 78,
   "id": "412d8ed2-2c9f-4dc6-97a2-01387a9c5e68",
   "metadata": {},
   "outputs": [
    {
     "data": {
      "image/png": "[encoded data removed]",
      "text/plain": [
       "<Figure size 800x500 with 1 Axes>"
      ]
     },
     "metadata": {},
     "output_type": "display_data"
    }
   ],
   "source": [
    "plt.figure(figsize=(8, 5))\n",
    "colormap = plt.cm.tab20(range(0, len(count)))\n",
    "plot = count.plot.barh(title=\"The Himalaya subranges\", color=colormap)\n",
    "plot.set_xlabel(\"Number of mountains in the subrange\")\n",
    "plot.set_ylabel(\"Subrange\")\n",
    "plt.show()"
   ]
  },
  {
   "cell_type": "code",
   "execution_count": 3,
   "id": "6666b773-7906-4013-baad-09f28f4c2c7b",
   "metadata": {},
   "outputs": [],
   "source": [
    "import numpy as np"
   ]
  },
  {
   "cell_type": "code",
   "execution_count": 4,
   "id": "32a54763-507e-4bc8-ab02-8d48060c354f",
   "metadata": {},
   "outputs": [
    {
     "data": {
      "text/plain": [
       "array(['1', '2', '3'], dtype='<U21')"
      ]
     },
     "execution_count": 4,
     "metadata": {},
     "output_type": "execute_result"
    }
   ],
   "source": [
    "np.array([1,'2',3])\n"
   ]
  },
  {
   "cell_type": "code",
   "execution_count": null,
   "id": "41decda8-6716-482a-9882-d84177fa41c7",
   "metadata": {},
   "outputs": [],
   "source": []
  }
 ],
 "metadata": {
  "kernelspec": {
   "display_name": "Python [conda env:adsml] *",
   "language": "python",
   "name": "conda-env-adsml-py"
  },
  "language_info": {
   "codemirror_mode": {
    "name": "ipython",
    "version": 3
   },
   "file_extension": ".py",
   "mimetype": "text/x-python",
   "name": "python",
   "nbconvert_exporter": "python",
   "pygments_lexer": "ipython3",
   "version": "3.9.15"
  }
 },
 "nbformat": 4,
 "nbformat_minor": 5
}
